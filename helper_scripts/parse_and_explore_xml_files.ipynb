{
 "cells": [
  {
   "cell_type": "code",
   "execution_count": 1,
   "metadata": {},
   "outputs": [],
   "source": [
    "import xml.etree.ElementTree as ET"
   ]
  },
  {
   "cell_type": "code",
   "execution_count": 46,
   "metadata": {},
   "outputs": [],
   "source": [
    "tree = ET.parse('/usr/local/opt/work/hover_net_modified/MoNuSAC_images_and_annotations/TCGA-5P-A9K0-01Z-00-DX1/TCGA-5P-A9K0-01Z-00-DX1_1.xml')\n",
    "root = tree.getroot()"
   ]
  },
  {
   "cell_type": "code",
   "execution_count": 54,
   "metadata": {},
   "outputs": [
    {
     "output_type": "stream",
     "name": "stdout",
     "text": "root[k]:  <Element 'Annotation' at 0x109861f50>\nroot[k][0]:  Epithelial\nEpithelial\nroot[k]:  <Element 'Annotation' at 0x10a5dc0b0>\nroot[k][0]:  Lymphocyte\nLymphocyte\nroot[k]:  <Element 'Annotation' at 0x10a5dc4d0>\nroot[k][0]:  Neutrophil\nNeutrophil\nroot[k]:  <Element 'Annotation' at 0x10a5dc8f0>\nroot[k][0]:  Macrophage\nMacrophage\n"
    }
   ],
   "source": [
    "for k in range(len(root)):\n",
    "    print('root[k]: ',root[k])\n",
    "    print('root[k][0]: ',root[k][0][0].attrib['Name'])\n",
    "    label = [x.attrib['Name'] for x in root[k][0]]\n",
    "    label = label[0]\n",
    "    print(label)\n"
   ]
  },
  {
   "cell_type": "code",
   "execution_count": 59,
   "metadata": {},
   "outputs": [],
   "source": [
    "if (root[0][0].tag == 'Attribute'):\n",
    "    print('Wow')"
   ]
  },
  {
   "cell_type": "code",
   "execution_count": 61,
   "metadata": {},
   "outputs": [
    {
     "output_type": "stream",
     "name": "stdout",
     "text": "Wow\nWow\nWow\nWow\n"
    }
   ],
   "source": [
    "for k in range(len(root)):\n",
    "    label = [x.attrib['Name'] for x in root[k][0]]\n",
    "    label = label[0]\n",
    "        \n",
    "    for child in root[k]:\n",
    "        for x in child:\n",
    "            r = x.tag\n",
    "            if r == 'Attribute':\n",
    "                print('Wow')"
   ]
  },
  {
   "cell_type": "code",
   "execution_count": 65,
   "metadata": {},
   "outputs": [
    {
     "output_type": "stream",
     "name": "stdout",
     "text": "<Element 'Attributes' at 0x109861bf0>\n\tAttribute\n<Element 'Regions' at 0x109861ad0>\n\tRegionAttributeHeaders\n\tRegion\n\tRegion\n\tRegion\n\tRegion\n\tRegion\n\tRegion\n\tRegion\n\tRegion\n\tRegion\n\tRegion\n\tRegion\n\tRegion\n\tRegion\n\tRegion\n\tRegion\n\tRegion\n\tRegion\n\tRegion\n\tRegion\n\tRegion\n\tRegion\n\tRegion\n\tRegion\n\tRegion\n\tRegion\n\tRegion\n\tRegion\n\tRegion\n\tRegion\n\tRegion\n\tRegion\n\tRegion\n\tRegion\n\tRegion\n\tRegion\n\tRegion\n\tRegion\n\tRegion\n\tRegion\n\tRegion\n\tRegion\n\tRegion\n\tRegion\n\tRegion\n\tRegion\n\tRegion\n\tRegion\n\tRegion\n\tRegion\n\tRegion\n\tRegion\n\tRegion\n\tRegion\n\tRegion\n\tRegion\n\tRegion\n\tRegion\n\tRegion\n\tRegion\n\tRegion\n\tRegion\n\tRegion\n\tRegion\n\tRegion\n\tRegion\n\tRegion\n\tRegion\n\tRegion\n\tRegion\n\tRegion\n\tRegion\n\tRegion\n\tRegion\n\tRegion\n\tRegion\n\tRegion\n\tRegion\n\tRegion\n\tRegion\n\tRegion\n\tRegion\n\tRegion\n\tRegion\n\tRegion\n\tRegion\n\tRegion\n\tRegion\n\tRegion\n\tRegion\n\tRegion\n\tRegion\n\tRegion\n\tRegion\n\tRegion\n\tRegion\n\tRegion\n\tRegion\n\tRegion\n\tRegion\n\tRegion\n\tRegion\n\tRegion\n\tRegion\n\tRegion\n\tRegion\n\tRegion\n\tRegion\n\tRegion\n\tRegion\n\tRegion\n\tRegion\n\tRegion\n\tRegion\n\tRegion\n\tRegion\n\tRegion\n\tRegion\n\tRegion\n\tRegion\n\tRegion\n\tRegion\n\tRegion\n\tRegion\n\tRegion\n\tRegion\n\tRegion\n\tRegion\n\tRegion\n\tRegion\n\tRegion\n\tRegion\n\tRegion\n\tRegion\n\tRegion\n\tRegion\n\tRegion\n\tRegion\n\tRegion\n\tRegion\n\tRegion\n\tRegion\n\tRegion\n\tRegion\n\tRegion\n\tRegion\n\tRegion\n\tRegion\n\tRegion\n\tRegion\n\tRegion\n\tRegion\n\tRegion\n\tRegion\n\tRegion\n\tRegion\n\tRegion\n\tRegion\n\tRegion\n\tRegion\n\tRegion\n\tRegion\n\tRegion\n\tRegion\n\tRegion\n\tRegion\n\tRegion\n\tRegion\n\tRegion\n\tRegion\n\tRegion\n\tRegion\n\tRegion\n\tRegion\n\tRegion\n\tRegion\n\tRegion\n\tRegion\n\tRegion\n\tRegion\n\tRegion\n\tRegion\n\tRegion\n\tRegion\n\tRegion\n\tRegion\n\tRegion\n\tRegion\n\tRegion\n\tRegion\n\tRegion\n\tRegion\n\tRegion\n\tRegion\n\tRegion\n\tRegion\n\tRegion\n\tRegion\n\tRegion\n\tRegion\n\tRegion\n\tRegion\n\tRegion\n\tRegion\n\tRegion\n\tRegion\n\tRegion\n\tRegion\n\tRegion\n\tRegion\n\tRegion\n\tRegion\n\tRegion\n\tRegion\n\tRegion\n\tRegion\n\tRegion\n\tRegion\n\tRegion\n\tRegion\n\tRegion\n\tRegion\n\tRegion\n\tRegion\n\tRegion\n\tRegion\n\tRegion\n\tRegion\n\tRegion\n\tRegion\n\tRegion\n\tRegion\n\tRegion\n\tRegion\n\tRegion\n\tRegion\n\tRegion\n\tRegion\n\tRegion\n\tRegion\n\tRegion\n\tRegion\n\tRegion\n\tRegion\n\tRegion\n\tRegion\n\tRegion\n\tRegion\n\tRegion\n\tRegion\n\tRegion\n\tRegion\n\tRegion\n\tRegion\n\tRegion\n\tRegion\n\tRegion\n\tRegion\n\tRegion\n\tRegion\n\tRegion\n\tRegion\n\tRegion\n\tRegion\n\tRegion\n\tRegion\n\tRegion\n\tRegion\n\tRegion\n\tRegion\n\tRegion\n\tRegion\n\tRegion\n\tRegion\n\tRegion\n\tRegion\n\tRegion\n\tRegion\n\tRegion\n\tRegion\n\tRegion\n\tRegion\n\tRegion\n\tRegion\n\tRegion\n\tRegion\n\tRegion\n\tRegion\n\tRegion\n\tRegion\n\tRegion\n\tRegion\n\tRegion\n\tRegion\n\tRegion\n\tRegion\n\tRegion\n\tRegion\n\tRegion\n\tRegion\n\tRegion\n\tRegion\n\tRegion\n\tRegion\n\tRegion\n\tRegion\n\tRegion\n\tRegion\n\tRegion\n\tRegion\n\tRegion\n\tRegion\n\tRegion\n\tRegion\n\tRegion\n<Element 'Plots' at 0x10a5dc050>\n"
    }
   ],
   "source": [
    "for child in root[0]:\n",
    "    print(child)\n",
    "    for x in child:\n",
    "        print ('\\t' + str(x.tag))"
   ]
  },
  {
   "cell_type": "code",
   "execution_count": null,
   "metadata": {},
   "outputs": [],
   "source": []
  }
 ],
 "metadata": {
  "language_info": {
   "codemirror_mode": {
    "name": "ipython",
    "version": 3
   },
   "file_extension": ".py",
   "mimetype": "text/x-python",
   "name": "python",
   "nbconvert_exporter": "python",
   "pygments_lexer": "ipython3",
   "version": "3.7.6-final"
  },
  "orig_nbformat": 2,
  "kernelspec": {
   "name": "python37664bitbasecondaa7640d1ddcf64774a8b2856162ce4192",
   "display_name": "Python 3.7.6 64-bit ('base': conda)"
  }
 },
 "nbformat": 4,
 "nbformat_minor": 2
}