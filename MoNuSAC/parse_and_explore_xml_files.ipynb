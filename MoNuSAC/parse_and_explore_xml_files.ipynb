{
 "cells": [
  {
   "cell_type": "code",
   "execution_count": 1,
   "metadata": {},
   "outputs": [],
   "source": [
    "import xml.etree.ElementTree as ET"
   ]
  },
  {
   "cell_type": "code",
   "execution_count": 46,
   "metadata": {},
   "outputs": [],
   "source": [
    "tree = ET.parse('/usr/local/opt/work/hover_net_modified/MoNuSAC_images_and_annotations/TCGA-5P-A9K0-01Z-00-DX1/TCGA-5P-A9K0-01Z-00-DX1_1.xml')\n",
    "root = tree.getroot()"
   ]
  },
  {
   "cell_type": "code",
   "execution_count": 54,
   "metadata": {},
   "outputs": [
    {
     "output_type": "stream",
     "name": "stdout",
     "text": "root[k]:  <Element 'Annotation' at 0x109861f50>\nroot[k][0]:  Epithelial\nEpithelial\nroot[k]:  <Element 'Annotation' at 0x10a5dc0b0>\nroot[k][0]:  Lymphocyte\nLymphocyte\nroot[k]:  <Element 'Annotation' at 0x10a5dc4d0>\nroot[k][0]:  Neutrophil\nNeutrophil\nroot[k]:  <Element 'Annotation' at 0x10a5dc8f0>\nroot[k][0]:  Macrophage\nMacrophage\n"
    }
   ],
   "source": [
    "for k in range(len(root)):\n",
    "    print('root[k]: ',root[k])\n",
    "    print('root[k][0]: ',root[k][0][0].attrib['Name'])\n",
    "    label = [x.attrib['Name'] for x in root[k][0]]\n",
    "    label = label[0]\n",
    "    print(label)\n"
   ]
  },
  {
   "cell_type": "code",
   "execution_count": 59,
   "metadata": {},
   "outputs": [],
   "source": [
    "if (root[0][0].tag == 'Attribute'):\n",
    "    print('Wow')"
   ]
  },
  {
   "cell_type": "code",
   "execution_count": 61,
   "metadata": {},
   "outputs": [
    {
     "output_type": "stream",
     "name": "stdout",
     "text": "Wow\nWow\nWow\nWow\n"
    }
   ],
   "source": [
    "for k in range(len(root)):\n",
    "    label = [x.attrib['Name'] for x in root[k][0]]\n",
    "    label = label[0]\n",
    "        \n",
    "    for child in root[k]:\n",
    "        for x in child:\n",
    "            r = x.tag\n",
    "            if r == 'Attribute':\n",
    "                print('Wow')"
   ]
  },
  {
   "cell_type": "code",
   "execution_count": 86,
   "metadata": {},
   "outputs": [
    {
     "output_type": "stream",
     "name": "stdout",
     "text": "0 <Element 'Vertex' at 0x109861770>\n1 <Element 'Vertex' at 0x1098619b0>\n2 <Element 'Vertex' at 0x109861a70>\n3 <Element 'Vertex' at 0x10918b230>\n4 <Element 'Vertex' at 0x10918b650>\n5 <Element 'Vertex' at 0x10918b5f0>\n6 <Element 'Vertex' at 0x10918b290>\n7 <Element 'Vertex' at 0x10918b2f0>\n8 <Element 'Vertex' at 0x10918b4d0>\n9 <Element 'Vertex' at 0x10918b470>\n10 <Element 'Vertex' at 0x10918b590>\n11 <Element 'Vertex' at 0x10918b6b0>\n12 <Element 'Vertex' at 0x10918b830>\n13 <Element 'Vertex' at 0x10918b530>\n14 <Element 'Vertex' at 0x10918b770>\n15 <Element 'Vertex' at 0x10918b7d0>\n16 <Element 'Vertex' at 0x10918b890>\n17 <Element 'Vertex' at 0x10918b950>\n18 <Element 'Vertex' at 0x10918b8f0>\n19 <Element 'Vertex' at 0x10918b9b0>\n20 <Element 'Vertex' at 0x10918ba10>\n21 <Element 'Vertex' at 0x10918ba70>\n22 <Element 'Vertex' at 0x10918bad0>\n23 <Element 'Vertex' at 0x10918bb30>\n24 <Element 'Vertex' at 0x10918bb90>\n25 <Element 'Vertex' at 0x10918bbf0>\n26 <Element 'Vertex' at 0x10918bc50>\n27 <Element 'Vertex' at 0x10918bcb0>\n28 <Element 'Vertex' at 0x10918bd10>\n29 <Element 'Vertex' at 0x10918bd70>\n30 <Element 'Vertex' at 0x10918bdd0>\n31 <Element 'Vertex' at 0x10918be30>\n32 <Element 'Vertex' at 0x10918be90>\n33 <Element 'Vertex' at 0x10918bef0>\n34 <Element 'Vertex' at 0x10918bf50>\n35 <Element 'Vertex' at 0x10918bfb0>\n36 <Element 'Vertex' at 0x102c12050>\n37 <Element 'Vertex' at 0x102c120b0>\n38 <Element 'Vertex' at 0x102c12110>\n39 <Element 'Vertex' at 0x102c12170>\n40 <Element 'Vertex' at 0x102c121d0>\n41 <Element 'Vertex' at 0x102c12230>\n42 <Element 'Vertex' at 0x102c12290>\n43 <Element 'Vertex' at 0x102c122f0>\n44 <Element 'Vertex' at 0x102c12350>\n45 <Element 'Vertex' at 0x102c123b0>\n46 <Element 'Vertex' at 0x102c12410>\n47 <Element 'Vertex' at 0x102c12470>\n48 <Element 'Vertex' at 0x102c124d0>\n49 <Element 'Vertex' at 0x102c12530>\n50 <Element 'Vertex' at 0x102c12590>\n51 <Element 'Vertex' at 0x102c125f0>\n52 <Element 'Vertex' at 0x102c12650>\n53 <Element 'Vertex' at 0x102c126b0>\n54 <Element 'Vertex' at 0x102c12710>\n55 <Element 'Vertex' at 0x102c12770>\n56 <Element 'Vertex' at 0x102c127d0>\n57 <Element 'Vertex' at 0x102c12830>\n58 <Element 'Vertex' at 0x102c12890>\n59 <Element 'Vertex' at 0x102c128f0>\n60 <Element 'Vertex' at 0x102c12950>\n61 <Element 'Vertex' at 0x102c129b0>\n62 <Element 'Vertex' at 0x102c12a10>\n63 <Element 'Vertex' at 0x102c12a70>\n64 <Element 'Vertex' at 0x102c12ad0>\n65 <Element 'Vertex' at 0x102c12b30>\n66 <Element 'Vertex' at 0x102c12b90>\n67 <Element 'Vertex' at 0x102c12bf0>\n68 <Element 'Vertex' at 0x102c12c50>\n69 <Element 'Vertex' at 0x102c12cb0>\n70 <Element 'Vertex' at 0x102c12d10>\n71 <Element 'Vertex' at 0x102c12d70>\n72 <Element 'Vertex' at 0x102c12dd0>\n73 <Element 'Vertex' at 0x102c12e30>\n74 <Element 'Vertex' at 0x102c12e90>\n75 <Element 'Vertex' at 0x102c12ef0>\n76 <Element 'Vertex' at 0x102c12f50>\n77 <Element 'Vertex' at 0x102c12fb0>\n78 <Element 'Vertex' at 0x102c10050>\n79 <Element 'Vertex' at 0x102c100b0>\n80 <Element 'Vertex' at 0x102c10110>\n81 <Element 'Vertex' at 0x102c10170>\n82 <Element 'Vertex' at 0x102c101d0>\n83 <Element 'Vertex' at 0x102c10230>\n84 <Element 'Vertex' at 0x102c10290>\n85 <Element 'Vertex' at 0x102c102f0>\n86 <Element 'Vertex' at 0x102c10350>\n87 <Element 'Vertex' at 0x102c103b0>\n88 <Element 'Vertex' at 0x102c10410>\n89 <Element 'Vertex' at 0x102c10470>\n90 <Element 'Vertex' at 0x102c104d0>\n91 <Element 'Vertex' at 0x102c10530>\n92 <Element 'Vertex' at 0x102c10590>\n93 <Element 'Vertex' at 0x102c105f0>\n94 <Element 'Vertex' at 0x102c10650>\n95 <Element 'Vertex' at 0x102c106b0>\n96 <Element 'Vertex' at 0x102c10710>\n97 <Element 'Vertex' at 0x102c10770>\n98 <Element 'Vertex' at 0x102c107d0>\n99 <Element 'Vertex' at 0x102c10830>\n100 <Element 'Vertex' at 0x102c10890>\n101 <Element 'Vertex' at 0x102c108f0>\n102 <Element 'Vertex' at 0x102c10950>\n103 <Element 'Vertex' at 0x102c109b0>\n104 <Element 'Vertex' at 0x102c10a10>\n"
    }
   ],
   "source": [
    "for i, vertex in enumerate(root[0][1][1][1]):\n",
    "    print(i,vertex)"
   ]
  },
  {
   "cell_type": "code",
   "execution_count": null,
   "metadata": {},
   "outputs": [],
   "source": []
  },
  {
   "cell_type": "code",
   "execution_count": null,
   "metadata": {},
   "outputs": [],
   "source": []
  }
 ],
 "metadata": {
  "language_info": {
   "codemirror_mode": {
    "name": "ipython",
    "version": 3
   },
   "file_extension": ".py",
   "mimetype": "text/x-python",
   "name": "python",
   "nbconvert_exporter": "python",
   "pygments_lexer": "ipython3",
   "version": "3.7.6-final"
  },
  "orig_nbformat": 2,
  "kernelspec": {
   "name": "python37664bitbasecondaa7640d1ddcf64774a8b2856162ce4192",
   "display_name": "Python 3.7.6 64-bit ('base': conda)"
  }
 },
 "nbformat": 4,
 "nbformat_minor": 2
}