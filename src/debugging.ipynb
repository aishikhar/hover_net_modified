{
 "cells": [
  {
   "cell_type": "code",
   "execution_count": 1,
   "metadata": {},
   "outputs": [],
   "source": [
    "import cv2\n",
    "import matplotlib.pyplot as plt\n",
    "import scipy.io as sio\n",
    "import numpy as np\n",
    "cropped = np.load('../../cropped.npy')\n",
    "fixed = np.load('../../fixed_ann.npy')\n",
    "orig = np.load('../../orig_ann.npy')"
   ]
  },
  {
   "cell_type": "code",
   "execution_count": 2,
   "metadata": {},
   "outputs": [
    {
     "output_type": "execute_result",
     "data": {
      "text/plain": "array([[133, 133, 133, ..., 133, 133, 133],\n       [133, 133, 133, ..., 133, 133, 133],\n       [133, 133, 133, ..., 133, 133, 133],\n       ...,\n       [126, 126, 126, ..., 133, 133, 133],\n       [126, 126, 126, ..., 133, 133, 133],\n       [126, 126, 126, ..., 133, 133, 133]], dtype=int32)"
     },
     "metadata": {},
     "execution_count": 2
    }
   ],
   "source": [
    "a = list(np.unique(data[:,:,0])).remove(0)"
   ]
  },
  {
   "cell_type": "code",
   "execution_count": null,
   "metadata": {},
   "outputs": [],
   "source": []
  }
 ],
 "metadata": {
  "language_info": {
   "codemirror_mode": {
    "name": "ipython",
    "version": 3
   },
   "file_extension": ".py",
   "mimetype": "text/x-python",
   "name": "python",
   "nbconvert_exporter": "python",
   "pygments_lexer": "ipython3",
   "version": "3.7.7-final"
  },
  "orig_nbformat": 2,
  "kernelspec": {
   "name": "python37764bitopencvconda27aaaede356546498c80ce336597444d",
   "display_name": "Python 3.7.7 64-bit ('opencv': conda)"
  }
 },
 "nbformat": 4,
 "nbformat_minor": 2
}